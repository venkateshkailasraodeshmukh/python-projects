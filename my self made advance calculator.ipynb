{
 "cells": [
  {
   "cell_type": "code",
   "execution_count": 3,
   "id": "18b785b7",
   "metadata": {},
   "outputs": [
    {
     "name": "stdout",
     "output_type": "stream",
     "text": [
      "enter your first number:25\n",
      "enter your second number:25\n",
      "operator:+\n",
      "your addition is : 50\n"
     ]
    }
   ],
   "source": [
    "a=int(input(\"enter your first number:\"))\n",
    "b=int (input(\"enter your second number:\"))\n",
    "c=input(\"operator:\")\n",
    "if (c==\"+\"):\n",
    "    print(\"your addition is :\",(a+b))\n",
    "elif (c==\"-\"):\n",
    "    print(\"your substraction is :\",(a-b))\n",
    "elif (c==\"*\"):\n",
    "    print(\"your multiplication is :\",(a*b))\n",
    "elif(c==\"/\"):\n",
    "    print(\"your division is :\",(a/b))\n",
    "else:\n",
    "    print(\"operator not identified.\")"
   ]
  },
  {
   "cell_type": "code",
   "execution_count": null,
   "id": "e16631b9",
   "metadata": {},
   "outputs": [],
   "source": []
  }
 ],
 "metadata": {
  "kernelspec": {
   "display_name": "Python 3",
   "language": "python",
   "name": "python3"
  },
  "language_info": {
   "codemirror_mode": {
    "name": "ipython",
    "version": 3
   },
   "file_extension": ".py",
   "mimetype": "text/x-python",
   "name": "python",
   "nbconvert_exporter": "python",
   "pygments_lexer": "ipython3",
   "version": "3.8.8"
  }
 },
 "nbformat": 4,
 "nbformat_minor": 5
}
