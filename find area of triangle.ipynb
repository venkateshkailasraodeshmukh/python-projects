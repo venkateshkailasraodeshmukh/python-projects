{
 "cells": [
  {
   "cell_type": "code",
   "execution_count": 6,
   "id": "b60d4f88",
   "metadata": {},
   "outputs": [
    {
     "name": "stdout",
     "output_type": "stream",
     "text": [
      "enter your triangle base:10\n",
      "enter your triangle hight: 10\n",
      "your triangle hight: 50.0\n"
     ]
    }
   ],
   "source": [
    "b=int(input(\"enter your triangle base:\"))\n",
    "h=int(input(\"enter your triangle hight: \"))\n",
    "a=((1/2)*b*h)\n",
    "if (a):\n",
    "\n",
    "    print(\"your triangle hight:\",a)\n",
    "    "
   ]
  },
  {
   "cell_type": "code",
   "execution_count": null,
   "id": "6bfe104a",
   "metadata": {},
   "outputs": [],
   "source": []
  }
 ],
 "metadata": {
  "kernelspec": {
   "display_name": "Python 3",
   "language": "python",
   "name": "python3"
  },
  "language_info": {
   "codemirror_mode": {
    "name": "ipython",
    "version": 3
   },
   "file_extension": ".py",
   "mimetype": "text/x-python",
   "name": "python",
   "nbconvert_exporter": "python",
   "pygments_lexer": "ipython3",
   "version": "3.8.8"
  }
 },
 "nbformat": 4,
 "nbformat_minor": 5
}
