{
 "cells": [
  {
   "cell_type": "code",
   "execution_count": 1,
   "id": "cd9e3e71",
   "metadata": {},
   "outputs": [
    {
     "name": "stdout",
     "output_type": "stream",
     "text": [
      "please enter your wieght:90\n",
      "please enter your hight in feet:5.6\n",
      "your hight in meter is: 1.70688\n",
      "please enter your hight in meter:1.70688\n",
      "bmi 30.891324537751117\n",
      "your B.M.I. is obese\n"
     ]
    }
   ],
   "source": [
    "w=int(input(\"please enter your wieght:\"))\n",
    "c=float(input(\"please enter your hight in feet:\"))\n",
    "c1=(c*0.3048)\n",
    "print(\"your hight in meter is:\",c1)\n",
    "h=float(input(\"please enter your hight in meter:\"))\n",
    "b=(w/(h**2))\n",
    "print(\"bmi\",b)\n",
    "if (b<25):\n",
    "    print(\"your B.M.I. is normal\")\n",
    "elif (b==range(25,29)):\n",
    "    print(\"your B.M.I. is over weight\")\n",
    "elif (b>30):\n",
    "    print(\"your B.M.I. is obese\")\n",
    "    "
   ]
  },
  {
   "cell_type": "code",
   "execution_count": null,
   "id": "4b15b1a9",
   "metadata": {},
   "outputs": [],
   "source": []
  }
 ],
 "metadata": {
  "kernelspec": {
   "display_name": "Python 3",
   "language": "python",
   "name": "python3"
  },
  "language_info": {
   "codemirror_mode": {
    "name": "ipython",
    "version": 3
   },
   "file_extension": ".py",
   "mimetype": "text/x-python",
   "name": "python",
   "nbconvert_exporter": "python",
   "pygments_lexer": "ipython3",
   "version": "3.8.8"
  }
 },
 "nbformat": 4,
 "nbformat_minor": 5
}
